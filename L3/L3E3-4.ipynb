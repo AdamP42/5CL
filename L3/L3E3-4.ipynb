{
 "cells": [
  {
   "cell_type": "code",
   "execution_count": 62,
   "id": "cb4a7dbd-7d3a-4d6a-b9f6-0c474eb6c26f",
   "metadata": {},
   "outputs": [],
   "source": [
    "import numpy as np\n",
    "import pandas as pd\n",
    "import scipy.optimize as opt\n",
    "import matplotlib\n",
    "import matplotlib.pyplot as plt\n",
    "from uncertainties import ufloat\n",
    "from uncertainties import unumpy\n",
    "%matplotlib inline\n"
   ]
  },
  {
   "cell_type": "code",
   "execution_count": 63,
   "id": "c0976cc3-eb23-49ca-a864-97ef6e228603",
   "metadata": {},
   "outputs": [],
   "source": [
    "def uflout_set_uncertainty(data, err):\n",
    "    uflout_data = []\n",
    "    for pt in data:\n",
    "        uflout_data.append(ufloat(pt, err))\n",
    "    return np.array(uflout_data)\n",
    "\n",
    "def uflout_var_uncertainty(data, err):\n",
    "    uflout_data = []\n",
    "    for i in range(len(data)):\n",
    "        uflout_data.append(ufloat(data[i], err[i]))\n",
    "    return np.array(uflout_data)\n"
   ]
  },
  {
   "cell_type": "code",
   "execution_count": 64,
   "id": "ee731cc9-1c3f-46d9-8755-7e42d0d366da",
   "metadata": {},
   "outputs": [],
   "source": [
    "def weighted_avg_sterr(data_pm):\n",
    "    data = unumpy.nominal_values(data_pm)\n",
    "    weights = 1 / unumpy.std_devs(data_pm)\n",
    "    average = np.average(data, weights=weights)\n",
    "    variance = np.average((data-average)**2, weights=weights) * (len(data_pm)/(len(data_pm) - 1))\n",
    "    return ufloat(average, np.sqrt(variance / len(data_pm)))\n",
    "\n",
    "def agreement(accepted, experimental):\n",
    "    discrep = np.abs(accepted.n - experimental.n)\n",
    "    acc_discrep = 2 * np.sqrt(accepted.s ** 2 + experimental.s ** 2)\n",
    "    if discrep < acc_discrep:\n",
    "        sign = \"<\"\n",
    "    elif discrep > acc_discrep:\n",
    "        sign = \">\"\n",
    "    else:\n",
    "        sign = \"=\"\n",
    "\n",
    "    return print(\"|V_{acc} - V_{exp}| = \",  discrep, sign, acc_discrep, \" = 2\\sqrt{\\\\alpha_{acc}^2+\\\\alpha_{exp}^2}\")\n"
   ]
  },
  {
   "cell_type": "code",
   "execution_count": 65,
   "id": "6fc616e1-c08b-451a-bd67-e7a9c1e872d5",
   "metadata": {},
   "outputs": [],
   "source": [
    "def get_central_width(dist, m):\n",
    "    return dist_pm / m\n",
    "\n",
    "def get_slit_width(L, width, wavelength):\n",
    "    return (2 * L * wavelength) / width\n"
   ]
  },
  {
   "cell_type": "code",
   "execution_count": 113,
   "id": "93d8ae7c-5656-439e-bded-8bb3021956bb",
   "metadata": {},
   "outputs": [],
   "source": [
    "pt_cm = ufloat(0.004393, .000001)\n",
    "wavelength = 6.32e-5\n"
   ]
  },
  {
   "cell_type": "code",
   "execution_count": 77,
   "id": "1f57e7ae-5753-4c29-a011-efe2baa1db20",
   "metadata": {},
   "outputs": [
    {
     "data": {
      "text/plain": [
       "0.01240144665461121+/-9.205350587793287e-05"
      ]
     },
     "execution_count": 77,
     "metadata": {},
     "output_type": "execute_result"
    }
   ],
   "source": [
    "L = ufloat(60, .1)\n",
    "m = np.array([2, 3, 4])\n",
    "a_act = 2 * pt_cm\n",
    "dist = np.array([1.22, 1.87, 2.44])\n",
    "dist_pm = uflout_set_uncertainty(dist, .05)\n",
    "\n",
    "slit_width = get_slit_width(L, weighted_avg_sterr(get_central_width(dist_pm, m)), wavelength)\n",
    "\n",
    "slit_width"
   ]
  },
  {
   "cell_type": "code",
   "execution_count": 78,
   "id": "68beaf9a-2da7-42be-855d-21512b7f97a9",
   "metadata": {},
   "outputs": [
    {
     "data": {
      "text/plain": [
       "0.008786+/-2e-06"
      ]
     },
     "execution_count": 78,
     "metadata": {},
     "output_type": "execute_result"
    }
   ],
   "source": [
    "a_act"
   ]
  },
  {
   "cell_type": "code",
   "execution_count": 68,
   "id": "bc5ba87c-9f79-4249-8cff-0fec7bed32da",
   "metadata": {},
   "outputs": [
    {
     "name": "stdout",
     "output_type": "stream",
     "text": [
      "|V_{acc} - V_{exp}| =  0.0036154466546112103 > 0.00018415045961841768  = 2\\sqrt{\\alpha_{acc}^2+\\alpha_{exp}^2}\n"
     ]
    }
   ],
   "source": [
    "agreement(a_act, slit_width)"
   ]
  },
  {
   "cell_type": "code",
   "execution_count": 79,
   "id": "b3b04d39-02df-469c-b449-4e6b39e9ccc5",
   "metadata": {},
   "outputs": [
    {
     "data": {
      "text/plain": [
       "0.03687096774193549+/-0.0003036301206152419"
      ]
     },
     "execution_count": 79,
     "metadata": {},
     "output_type": "execute_result"
    }
   ],
   "source": [
    "L = ufloat(60, .1)\n",
    "m = np.array([2, 3, 4])\n",
    "a_act = 8 * pt_cm\n",
    "dist = np.array([.41, .63, 0.82])\n",
    "dist_pm = uflout_set_uncertainty(dist, .05)\n",
    "\n",
    "slit_width = get_slit_width(L, weighted_avg_sterr(get_central_width(dist_pm, m)), wavelength)\n",
    "\n",
    "slit_width\n"
   ]
  },
  {
   "cell_type": "code",
   "execution_count": 80,
   "id": "da6b864f-93f7-4dbf-96f6-ef7c59ab3c32",
   "metadata": {},
   "outputs": [
    {
     "data": {
      "text/plain": [
       "0.035144+/-8e-06"
      ]
     },
     "execution_count": 80,
     "metadata": {},
     "output_type": "execute_result"
    }
   ],
   "source": [
    "a_act"
   ]
  },
  {
   "cell_type": "code",
   "execution_count": 81,
   "id": "16f48a1a-886c-4a61-a759-b96f8965c730",
   "metadata": {},
   "outputs": [
    {
     "name": "stdout",
     "output_type": "stream",
     "text": [
      "|V_{acc} - V_{exp}| =  0.0017269677419354881 > 0.0006074709874383347  = 2\\sqrt{\\alpha_{acc}^2+\\alpha_{exp}^2}\n"
     ]
    }
   ],
   "source": [
    "agreement(a_act, slit_width)"
   ]
  },
  {
   "cell_type": "code",
   "execution_count": 82,
   "id": "72f60776-e413-4934-9ab8-d622e5b79794",
   "metadata": {},
   "outputs": [
    {
     "data": {
      "text/plain": [
       "0.06702518382352941+/-0.00025498852131616146"
      ]
     },
     "execution_count": 82,
     "metadata": {},
     "output_type": "execute_result"
    }
   ],
   "source": [
    "L = ufloat(319, 1)\n",
    "m = np.array([2, 3, 4])\n",
    "a_act = 16 * pt_cm\n",
    "dist = np.array([1.21, 1.82, 2.41])\n",
    "dist_pm = uflout_set_uncertainty(dist, .05)\n",
    "\n",
    "slit_width = get_slit_width(L, weighted_avg_sterr(get_central_width(dist_pm, m)), wavelength)\n",
    "\n",
    "slit_width\n"
   ]
  },
  {
   "cell_type": "code",
   "execution_count": 83,
   "id": "07a10780-928d-4c11-8e25-6c101e256b91",
   "metadata": {},
   "outputs": [
    {
     "data": {
      "text/plain": [
       "0.070288+/-1.6e-05"
      ]
     },
     "execution_count": 83,
     "metadata": {},
     "output_type": "execute_result"
    }
   ],
   "source": [
    "a_act"
   ]
  },
  {
   "cell_type": "code",
   "execution_count": 84,
   "id": "499a45aa-2947-47a2-b7f9-4e6ac70d46fa",
   "metadata": {},
   "outputs": [
    {
     "name": "stdout",
     "output_type": "stream",
     "text": [
      "|V_{acc} - V_{exp}| =  0.00326281617647059 > 0.0005109800231046319  = 2\\sqrt{\\alpha_{acc}^2+\\alpha_{exp}^2}\n"
     ]
    }
   ],
   "source": [
    "agreement(a_act, slit_width)"
   ]
  },
  {
   "cell_type": "code",
   "execution_count": 85,
   "id": "a5cc38ca-ba12-4462-afcf-e519deefd4ad",
   "metadata": {},
   "outputs": [
    {
     "data": {
      "text/plain": [
       "0.1357977653631285+/-0.0010901479624352284"
      ]
     },
     "execution_count": 85,
     "metadata": {},
     "output_type": "execute_result"
    }
   ],
   "source": [
    "L = ufloat(319, 1)\n",
    "m = np.array([2, 3, 4])\n",
    "a_act = 32 * pt_cm\n",
    "dist = np.array([.585, .9, 1.2])\n",
    "dist_pm = uflout_set_uncertainty(dist, .05)\n",
    "\n",
    "slit_width = get_slit_width(L, weighted_avg_sterr(get_central_width(dist_pm, m)), wavelength)\n",
    "\n",
    "slit_width\n"
   ]
  },
  {
   "cell_type": "code",
   "execution_count": 86,
   "id": "26aad9ef-3c96-4e33-b6c4-622406599888",
   "metadata": {},
   "outputs": [
    {
     "data": {
      "text/plain": [
       "0.140576+/-3.2e-05"
      ]
     },
     "execution_count": 86,
     "metadata": {},
     "output_type": "execute_result"
    }
   ],
   "source": [
    "a_act"
   ]
  },
  {
   "cell_type": "code",
   "execution_count": 74,
   "id": "acf1538f-4c7c-4163-a43c-6e723bcafb7d",
   "metadata": {},
   "outputs": [
    {
     "name": "stdout",
     "output_type": "stream",
     "text": [
      "|V_{acc} - V_{exp}| =  0.00477823463687152 > 0.002181235044649412  = 2\\sqrt{\\alpha_{acc}^2+\\alpha_{exp}^2}\n"
     ]
    }
   ],
   "source": [
    "agreement(a_act, slit_width)"
   ]
  },
  {
   "cell_type": "code",
   "execution_count": 75,
   "id": "a5aa7cc9-7366-403e-97ce-cbd4a875fb24",
   "metadata": {},
   "outputs": [
    {
     "data": {
      "text/plain": [
       "0.29833333333333334+/-0.0022047927592204943"
      ]
     },
     "execution_count": 75,
     "metadata": {},
     "output_type": "execute_result"
    }
   ],
   "source": [
    "weighted_avg_sterr(get_central_width(dist_pm, m))"
   ]
  },
  {
   "cell_type": "code",
   "execution_count": 106,
   "id": "89d9a1d1-c027-4813-b02c-807d61b54fcd",
   "metadata": {},
   "outputs": [
    {
     "data": {
      "text/plain": [
       "0.010807007786429366+/-4.395305010707777e-05"
      ]
     },
     "execution_count": 106,
     "metadata": {},
     "output_type": "execute_result"
    }
   ],
   "source": [
    "L = ufloat(85, .1)\n",
    "m = np.array([2, 3, 4])\n",
    "d_act = ufloat(.00897, .00897 * .05)\n",
    "dist = np.array([1.99, 3.02, 3.98])\n",
    "dist_pm = uflout_set_uncertainty(dist, .05)\n",
    "\n",
    "wire_diameter = get_slit_width(L, weighted_avg_sterr(get_central_width(dist_pm, m)), wavelength)\n",
    "\n",
    "wire_diameter\n"
   ]
  },
  {
   "cell_type": "code",
   "execution_count": 107,
   "id": "19ca0ece-c15a-4452-b3b0-2f81d11db492",
   "metadata": {},
   "outputs": [
    {
     "data": {
      "text/plain": [
       "0.00897+/-0.00044850000000000006"
      ]
     },
     "execution_count": 107,
     "metadata": {},
     "output_type": "execute_result"
    }
   ],
   "source": [
    "d_act"
   ]
  },
  {
   "cell_type": "code",
   "execution_count": 108,
   "id": "879e90a7-0ce5-493c-945c-e903d2678cd0",
   "metadata": {},
   "outputs": [
    {
     "name": "stdout",
     "output_type": "stream",
     "text": [
      "|V_{acc} - V_{exp}| =  0.001837007786429366 > 0.0009012971110876043  = 2\\sqrt{\\alpha_{acc}^2+\\alpha_{exp}^2}\n"
     ]
    }
   ],
   "source": [
    "agreement(d_act, wire_diameter)"
   ]
  },
  {
   "cell_type": "code",
   "execution_count": 109,
   "id": "d88f4a7c-a1fc-495a-b6c8-328bd740fb06",
   "metadata": {},
   "outputs": [
    {
     "data": {
      "text/plain": [
       "0.04031327800829875+/-0.0007161712964100118"
      ]
     },
     "execution_count": 109,
     "metadata": {},
     "output_type": "execute_result"
    }
   ],
   "source": [
    "L = ufloat(85, .1)\n",
    "m = np.array([2, 3, 4])\n",
    "d_act = ufloat(.04049, .04049 * .05)\n",
    "dist = np.array([0.53, 0.78, 1.1])\n",
    "\n",
    "dist_pm = uflout_set_uncertainty(dist, .05)\n",
    "\n",
    "wire_diameter = get_slit_width(L, weighted_avg_sterr(get_central_width(dist_pm, m)), wavelength)\n",
    "\n",
    "wire_diameter\n"
   ]
  },
  {
   "cell_type": "code",
   "execution_count": 112,
   "id": "31144744-fd0f-451f-aaba-21d17247ad8a",
   "metadata": {},
   "outputs": [
    {
     "name": "stdout",
     "output_type": "stream",
     "text": [
      "|V_{acc} - V_{exp}| =  0.00017672199170124664 < 0.00429488140735066  = 2\\sqrt{\\alpha_{acc}^2+\\alpha_{exp}^2}\n"
     ]
    }
   ],
   "source": [
    "agreement(d_act, wire_diameter)"
   ]
  },
  {
   "cell_type": "code",
   "execution_count": 111,
   "id": "7905862e-1c96-4f51-bc70-fa2c61ac159b",
   "metadata": {},
   "outputs": [
    {
     "data": {
      "text/plain": [
       "0.0020245"
      ]
     },
     "execution_count": 111,
     "metadata": {},
     "output_type": "execute_result"
    }
   ],
   "source": [
    ".04049 * .05"
   ]
  },
  {
   "cell_type": "code",
   "execution_count": null,
   "id": "bd75c4fc-49d5-4456-b10e-6f04f97c9e12",
   "metadata": {},
   "outputs": [],
   "source": []
  }
 ],
 "metadata": {
  "kernelspec": {
   "display_name": "Python 3 (ipykernel)",
   "language": "python",
   "name": "python3"
  },
  "language_info": {
   "codemirror_mode": {
    "name": "ipython",
    "version": 3
   },
   "file_extension": ".py",
   "mimetype": "text/x-python",
   "name": "python",
   "nbconvert_exporter": "python",
   "pygments_lexer": "ipython3",
   "version": "3.9.7"
  }
 },
 "nbformat": 4,
 "nbformat_minor": 5
}
