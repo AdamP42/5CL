{
 "cells": [
  {
   "cell_type": "code",
   "execution_count": 1,
   "id": "57fac950-d89e-4d1a-a8fe-175ba9e48ba3",
   "metadata": {},
   "outputs": [],
   "source": [
    "import numpy as np\n",
    "import pandas as pd\n",
    "import scipy.optimize as opt\n",
    "import matplotlib\n",
    "import matplotlib.pyplot as plt\n",
    "%matplotlib inline"
   ]
  },
  {
   "cell_type": "code",
   "execution_count": 3,
   "id": "712a1182-075b-4757-8f05-bcdb8a3fdd67",
   "metadata": {},
   "outputs": [
    {
     "data": {
      "text/plain": [
       "0.1073"
      ]
     },
     "execution_count": 3,
     "metadata": {},
     "output_type": "execute_result"
    }
   ],
   "source": [
    "np.average([0.105, 0.1075, 0.1075, 0.1092])"
   ]
  },
  {
   "cell_type": "code",
   "execution_count": null,
   "id": "d9cf5690-0b8e-425c-8edf-0306a89fdec4",
   "metadata": {},
   "outputs": [],
   "source": []
  }
 ],
 "metadata": {
  "kernelspec": {
   "display_name": "Python 3 (ipykernel)",
   "language": "python",
   "name": "python3"
  },
  "language_info": {
   "codemirror_mode": {
    "name": "ipython",
    "version": 3
   },
   "file_extension": ".py",
   "mimetype": "text/x-python",
   "name": "python",
   "nbconvert_exporter": "python",
   "pygments_lexer": "ipython3",
   "version": "3.9.7"
  }
 },
 "nbformat": 4,
 "nbformat_minor": 5
}
