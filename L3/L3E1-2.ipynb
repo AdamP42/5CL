{
 "cells": [
  {
   "cell_type": "code",
   "execution_count": 3,
   "id": "57fac950-d89e-4d1a-a8fe-175ba9e48ba3",
   "metadata": {},
   "outputs": [],
   "source": [
    "import numpy as np\n",
    "import pandas as pd\n",
    "import scipy.optimize as opt\n",
    "import matplotlib\n",
    "import matplotlib.pyplot as plt\n",
    "from uncertainties import ufloat\n",
    "from uncertainties import unumpy\n",
    "%matplotlib inline\n"
   ]
  },
  {
   "cell_type": "code",
   "execution_count": 3,
   "id": "712a1182-075b-4757-8f05-bcdb8a3fdd67",
   "metadata": {},
   "outputs": [
    {
     "data": {
      "text/plain": [
       "0.1073"
      ]
     },
     "execution_count": 3,
     "metadata": {},
     "output_type": "execute_result"
    }
   ],
   "source": [
    "np.average([0.105, 0.1075, 0.1075, 0.1092])"
   ]
  },
  {
   "cell_type": "code",
   "execution_count": 5,
   "id": "c475b632-93fd-45ad-85da-daab25d35f60",
   "metadata": {},
   "outputs": [],
   "source": [
    "def uflout_set_uncertainty(data, err):\n",
    "    uflout_data = []\n",
    "    for pt in data:\n",
    "        uflout_data.append(ufloat(pt, err))\n",
    "    return np.array(uflout_data)"
   ]
  },
  {
   "cell_type": "code",
   "execution_count": 4,
   "id": "d9cf5690-0b8e-425c-8edf-0306a89fdec4",
   "metadata": {},
   "outputs": [],
   "source": [
    "def get_aperature(zeroes, wavelength, L, D):\n",
    "    return (zeroes / np.pi) * 2 * wavelength * L / D\n"
   ]
  },
  {
   "cell_type": "code",
   "execution_count": 19,
   "id": "d08a1b31-671b-4f5d-8a32-75653478e18d",
   "metadata": {},
   "outputs": [],
   "source": [
    "zeroes = np.array([3.8317, 7.0156, 10.1735, 13.3237])\n",
    "L= ufloat(50,.1)\n",
    "wavelength = 6.35e-5\n",
    "m = np.array([1, 2, 3, 4])\n",
    "diameter = np.array([.19, .46, .63, .82])\n",
    "diameter_pm = uflout_set_uncertainty(diameter, .05)\n"
   ]
  },
  {
   "cell_type": "code",
   "execution_count": 20,
   "id": "dcd83434-7496-4ffc-921d-c25170545a2c",
   "metadata": {},
   "outputs": [],
   "source": [
    "aperature = get_aperature(zeroes, wavelength, L, diameter_pm)"
   ]
  },
  {
   "cell_type": "code",
   "execution_count": 21,
   "id": "13ae0cb4-e9fa-4688-9cb4-2ea9b5b6194f",
   "metadata": {},
   "outputs": [
    {
     "data": {
      "text/plain": [
       "0.10765627088471666"
      ]
     },
     "execution_count": 21,
     "metadata": {},
     "output_type": "execute_result"
    }
   ],
   "source": [
    "np.mean(unumpy.nominal_values(aperature))"
   ]
  },
  {
   "cell_type": "code",
   "execution_count": 22,
   "id": "7f3d0c1f-2d68-4a95-9e42-4cf6b6220ea3",
   "metadata": {},
   "outputs": [
    {
     "data": {
      "text/plain": [
       "0.00601751465111182"
      ]
     },
     "execution_count": 22,
     "metadata": {},
     "output_type": "execute_result"
    }
   ],
   "source": [
    "np.std(unumpy.nominal_values(aperature)) / 2"
   ]
  },
  {
   "cell_type": "code",
   "execution_count": 23,
   "id": "9d2ae699-0144-41fc-aed5-73fc2f1180aa",
   "metadata": {},
   "outputs": [
    {
     "data": {
      "text/plain": [
       "array([0.12805944736842104+/-0.033700827808383765,\n",
       "       0.09684578260869565+/-0.01052849731254541,\n",
       "       0.10254242063492064+/-0.008140871010861245,\n",
       "       0.10317743292682928+/-0.006294690195851813], dtype=object)"
      ]
     },
     "execution_count": 23,
     "metadata": {},
     "output_type": "execute_result"
    }
   ],
   "source": [
    "aperature"
   ]
  },
  {
   "cell_type": "code",
   "execution_count": null,
   "id": "74a7d284-ed1a-4a96-a7f2-7a6b0293230a",
   "metadata": {},
   "outputs": [],
   "source": []
  }
 ],
 "metadata": {
  "kernelspec": {
   "display_name": "Python 3 (ipykernel)",
   "language": "python",
   "name": "python3"
  },
  "language_info": {
   "codemirror_mode": {
    "name": "ipython",
    "version": 3
   },
   "file_extension": ".py",
   "mimetype": "text/x-python",
   "name": "python",
   "nbconvert_exporter": "python",
   "pygments_lexer": "ipython3",
   "version": "3.9.7"
  }
 },
 "nbformat": 4,
 "nbformat_minor": 5
}
