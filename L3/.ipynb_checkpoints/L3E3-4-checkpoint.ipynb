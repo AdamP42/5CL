{
 "cells": [
  {
   "cell_type": "code",
   "execution_count": 17,
   "id": "cb4a7dbd-7d3a-4d6a-b9f6-0c474eb6c26f",
   "metadata": {},
   "outputs": [],
   "source": [
    "import numpy as np\n",
    "import pandas as pd\n",
    "import scipy.optimize as opt\n",
    "import matplotlib\n",
    "import matplotlib.pyplot as plt\n",
    "from uncertainties import ufloat\n",
    "from uncertainties import unumpy\n",
    "%matplotlib inline\n"
   ]
  },
  {
   "cell_type": "code",
   "execution_count": 4,
   "id": "c0976cc3-eb23-49ca-a864-97ef6e228603",
   "metadata": {},
   "outputs": [],
   "source": [
    "def uflout_set_uncertainty(data, err):\n",
    "    uflout_data = []\n",
    "    for pt in data:\n",
    "        uflout_data.append(ufloat(pt, err))\n",
    "    return np.array(uflout_data)\n",
    "\n",
    "def uflout_var_uncertainty(data, err):\n",
    "    uflout_data = []\n",
    "    for i in range(len(data)):\n",
    "        uflout_data.append(ufloat(data[i], err[i]))\n",
    "    return np.array(uflout_data)\n"
   ]
  },
  {
   "cell_type": "code",
   "execution_count": 22,
   "id": "ee731cc9-1c3f-46d9-8755-7e42d0d366da",
   "metadata": {},
   "outputs": [],
   "source": [
    "# Inspired by stack exchange post\n",
    "def weighted_avg_sterr(data_pm):\n",
    "    data = unumpy.nominal_values(data_pm)\n",
    "    weights = 1 / unumpy.std_devs(data_pm)\n",
    "    average = np.average(data, weights=weights)\n",
    "    variance = np.average((data-average)**2, weights=weights) * (len(data_pm)/(len(data_pm) - 1))\n",
    "    return ufloat(average, np.sqrt(variance / len(data_pm)))\n"
   ]
  },
  {
   "cell_type": "code",
   "execution_count": 23,
   "id": "6fc616e1-c08b-451a-bd67-e7a9c1e872d5",
   "metadata": {},
   "outputs": [],
   "source": [
    "def get_central_width(dist, m):\n",
    "    return dist_pm / m\n",
    "\n",
    "def get_slit_width(L, width, wavelength):\n",
    "    return (2 * L * wavelength) / width\n"
   ]
  },
  {
   "cell_type": "code",
   "execution_count": 24,
   "id": "1f57e7ae-5753-4c29-a011-efe2baa1db20",
   "metadata": {},
   "outputs": [
    {
     "data": {
      "text/plain": [
       "0.01240144665461121+/-9.205350587793287e-05"
      ]
     },
     "execution_count": 24,
     "metadata": {},
     "output_type": "execute_result"
    }
   ],
   "source": [
    "L = ufloat(60, .1)\n",
    "m = np.array([2, 3, 4])\n",
    "wavelength = 6.35e-5\n",
    "dist = np.array([1.22, 1.87, 2.44])\n",
    "dist_pm = uflout_set_uncertainty(dist, .05)\n",
    "\n",
    "get_slit_width(L, weighted_avg_sterr(get_central_width(dist_pm, m)), wavelength)\n"
   ]
  },
  {
   "cell_type": "code",
   "execution_count": 6,
   "id": "8e152754-8a64-41bc-a227-da1ffd26163e",
   "metadata": {},
   "outputs": [
    {
     "data": {
      "text/plain": [
       "array([1.22+/-0.05, 1.87+/-0.05, 2.44+/-0.05], dtype=object)"
      ]
     },
     "execution_count": 6,
     "metadata": {},
     "output_type": "execute_result"
    }
   ],
   "source": [
    "dist_pm"
   ]
  },
  {
   "cell_type": "code",
   "execution_count": null,
   "id": "58a773dd-fccc-4bd1-ac7c-1baaf8e17af6",
   "metadata": {},
   "outputs": [],
   "source": []
  }
 ],
 "metadata": {
  "kernelspec": {
   "display_name": "Python 3 (ipykernel)",
   "language": "python",
   "name": "python3"
  },
  "language_info": {
   "codemirror_mode": {
    "name": "ipython",
    "version": 3
   },
   "file_extension": ".py",
   "mimetype": "text/x-python",
   "name": "python",
   "nbconvert_exporter": "python",
   "pygments_lexer": "ipython3",
   "version": "3.9.7"
  }
 },
 "nbformat": 4,
 "nbformat_minor": 5
}
