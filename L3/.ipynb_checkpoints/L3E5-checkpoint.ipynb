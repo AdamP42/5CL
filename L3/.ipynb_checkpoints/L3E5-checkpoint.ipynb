{
 "cells": [
  {
   "cell_type": "code",
   "execution_count": 2,
   "id": "2349f437-e541-49a4-9352-f883fb68d852",
   "metadata": {},
   "outputs": [],
   "source": [
    "import numpy as np\n",
    "import pandas as pd\n",
    "import scipy.optimize as opt\n",
    "import matplotlib\n",
    "import matplotlib.pyplot as plt\n",
    "from uncertainties import ufloat\n",
    "from uncertainties import unumpy\n",
    "%matplotlib inline\n"
   ]
  },
  {
   "cell_type": "code",
   "execution_count": 3,
   "id": "981a725a-b492-4c1e-bc41-d037d2224eea",
   "metadata": {},
   "outputs": [],
   "source": [
    "def uflout_set_uncertainty(data, err):\n",
    "    uflout_data = []\n",
    "    for pt in data:\n",
    "        uflout_data.append(ufloat(pt, err))\n",
    "    return np.array(uflout_data)\n",
    "\n",
    "def uflout_var_uncertainty(data, err):\n",
    "    uflout_data = []\n",
    "    for i in range(len(data)):\n",
    "        uflout_data.append(ufloat(data[i], err[i]))\n",
    "    return np.array(uflout_data)\n"
   ]
  },
  {
   "cell_type": "code",
   "execution_count": 10,
   "id": "5f3eb674-92be-4b64-9680-9aa5fae2d8a5",
   "metadata": {},
   "outputs": [],
   "source": [
    "def weighted_avg_sterr(data_pm):\n",
    "    data = unumpy.nominal_values(data_pm)\n",
    "    weights = 1 / unumpy.std_devs(data_pm)\n",
    "    average = np.average(data, weights=weights)\n",
    "    variance = np.average((data-average)**2, weights=weights) * (len(data_pm)/(len(data_pm) - 1))\n",
    "    return ufloat(average, np.sqrt(variance / len(data_pm)))\n",
    "\n",
    "def agreement(accepted, experimental):\n",
    "    discrep = np.abs(accepted.n - experimental.n)\n",
    "    acc_discrep = 2 * np.sqrt(accepted.s ** 2 + experimental.s ** 2)\n",
    "    if discrep < acc_discrep:\n",
    "        sign = \"<\"\n",
    "    elif discrep > acc_discrep:\n",
    "        sign = \">\"\n",
    "    else:\n",
    "        sign = \"=\"\n",
    "\n",
    "    return print(\"|V_{acc} - V_{exp}| = \",  discrep, sign, acc_discrep, \" = 2\\sqrt{\\\\alpha_{acc}^2+\\\\alpha_{exp}^2}\")\n"
   ]
  },
  {
   "cell_type": "code",
   "execution_count": 14,
   "id": "f16e2de6-2546-4bc2-9f5d-a910c9f66234",
   "metadata": {},
   "outputs": [],
   "source": [
    "def get_slit_width(L, D_mo, m, wavelength):\n",
    "    return (2 * L * m * wavelength) / D_mo\n",
    "\n",
    "def get_slit_separation(L, D_f, m, wavelength):\n",
    "    return (L * m * wavelength) / D_f\n"
   ]
  },
  {
   "cell_type": "code",
   "execution_count": 20,
   "id": "499a5072-9c15-4335-80ab-f48bfe7d5f55",
   "metadata": {},
   "outputs": [],
   "source": [
    "pt_cm = ufloat(0.004393, .000001)\n",
    "wavelength = 5.32e-5\n"
   ]
  },
  {
   "cell_type": "code",
   "execution_count": 40,
   "id": "14ddb387-5ede-41e6-9684-44f65e00af2e",
   "metadata": {},
   "outputs": [
    {
     "name": "stdout",
     "output_type": "stream",
     "text": [
      "0.06788+/-0.00029 0.061502+/-0.000014\n",
      "0.01122+/-0.00013 0.0087860+/-0.0000020\n",
      "|V_{acc} - V_{exp}| =  0.00637821075331875 > 0.0005811301271192652  = 2\\sqrt{\\alpha_{acc}^2+\\alpha_{exp}^2}\n",
      "|V_{acc} - V_{exp}| =  0.0024377318125783313 > 0.00026204691518068497  = 2\\sqrt{\\alpha_{acc}^2+\\alpha_{exp}^2}\n"
     ]
    }
   ],
   "source": [
    "expected_width = 2 * pt_cm\n",
    "expected_separation = 14 * pt_cm\n",
    "\n",
    "L_mo = ufloat(85, .1)\n",
    "m_mo = np.array([1 ,2 ,3 ,4 ,5])\n",
    "D_mo = np.array([0.87, 1.62, 2.43, 3.2, 3.96])\n",
    "D_mo_pm = uflout_set_uncertainty(D_mo, .05)\n",
    "\n",
    "L_f = ufloat(319, 1)\n",
    "m_f = np.array([3, 5, 7])\n",
    "D_f = np.array([0.75, 1.26, 1.74])\n",
    "D_f_pm = uflout_set_uncertainty(D_f, .05)\n",
    "\n",
    "separation_exp = weighted_avg_sterr(get_slit_separation(L_f, D_f_pm, m_f, wavelength))\n",
    "width_exp = weighted_avg_sterr(get_slit_width(L_mo, D_mo_pm, m_mo, wavelength))\n",
    "\n",
    "print(separation_exp, expected_separation)\n",
    "print(width_exp, expected_width)\n",
    "agreement(separation_exp, expected_separation)\n",
    "agreement(width_exp, expected_width)"
   ]
  },
  {
   "cell_type": "code",
   "execution_count": 41,
   "id": "12ed5dfa-1166-4a64-82df-8ad2b5b3af1c",
   "metadata": {},
   "outputs": [
    {
     "name": "stdout",
     "output_type": "stream",
     "text": [
      "0.135+/-0.011 0.131790+/-0.000030\n",
      "0.0097+/-0.0010 0.0087860+/-0.0000020\n",
      "|V_{acc} - V_{exp}| =  0.003389328567522082 < 0.021392504722747667  = 2\\sqrt{\\alpha_{acc}^2+\\alpha_{exp}^2}\n",
      "|V_{acc} - V_{exp}| =  0.0009294225620521176 < 0.0019673227449017398  = 2\\sqrt{\\alpha_{acc}^2+\\alpha_{exp}^2}\n"
     ]
    }
   ],
   "source": [
    "expected_width = 2 * pt_cm\n",
    "expected_separation = 30 * pt_cm\n",
    "\n",
    "L_mo = ufloat(50, .1)\n",
    "m_mo = np.array([1 ,2 ,3])\n",
    "D_mo = np.array([.45, 0.93, 1.84])\n",
    "D_mo_pm = uflout_set_uncertainty(D_mo, .05)\n",
    "\n",
    "L_f = ufloat(319, 1)\n",
    "m_f = np.array([3, 5, 7])\n",
    "D_f = np.array([.32, .57, 0.97])\n",
    "D_f_pm = uflout_set_uncertainty(D_f, .05)\n",
    "\n",
    "separation_exp = weighted_avg_sterr(get_slit_separation(L_f, D_f_pm, m_f, wavelength))\n",
    "width_exp = weighted_avg_sterr(get_slit_width(L_mo, D_mo_pm, m_mo, wavelength))\n",
    "\n",
    "print(separation_exp, expected_separation)\n",
    "print(width_exp, expected_width)\n",
    "agreement(separation_exp, expected_separation)\n",
    "agreement(width_exp, expected_width)\n"
   ]
  },
  {
   "cell_type": "code",
   "execution_count": null,
   "id": "83ce911b-ec4f-40e2-b931-62868a3d77ac",
   "metadata": {},
   "outputs": [],
   "source": []
  }
 ],
 "metadata": {
  "kernelspec": {
   "display_name": "Python 3 (ipykernel)",
   "language": "python",
   "name": "python3"
  },
  "language_info": {
   "codemirror_mode": {
    "name": "ipython",
    "version": 3
   },
   "file_extension": ".py",
   "mimetype": "text/x-python",
   "name": "python",
   "nbconvert_exporter": "python",
   "pygments_lexer": "ipython3",
   "version": "3.9.7"
  }
 },
 "nbformat": 4,
 "nbformat_minor": 5
}
