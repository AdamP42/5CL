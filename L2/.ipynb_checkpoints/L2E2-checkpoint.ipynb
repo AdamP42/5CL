{
 "cells": [
  {
   "cell_type": "code",
   "execution_count": 2,
   "id": "795b5400-03b6-4de5-a35c-312f454ac107",
   "metadata": {},
   "outputs": [],
   "source": [
    "import numpy as np\n",
    "import pandas as pd\n",
    "import scipy.optimize as opt\n",
    "import scipy.misc as misc\n",
    "import matplotlib\n",
    "import matplotlib.pyplot as plt\n",
    "%matplotlib inline\n"
   ]
  },
  {
   "cell_type": "code",
   "execution_count": 8,
   "id": "46772941-5ea1-491d-b082-9dc8336e1dd8",
   "metadata": {},
   "outputs": [],
   "source": [
    "def norm_res(predicted, observed, errors):\n",
    "    res = observed-predicted\n",
    "    return res / errors \n",
    "\n",
    "def chi_2(predicted, observed, errors):\n",
    "    return np.sum(((observed-predicted) / errors) ** 2)\n",
    "\n",
    "def red_chi_2(predicted, observed, errors, DoF):\n",
    "    return np.sum(((observed-predicted) / errors) ** 2) / DoF\n"
   ]
  },
  {
   "cell_type": "code",
   "execution_count": 113,
   "id": "a0546c49-556a-4162-9ac0-2f68ec530f6e",
   "metadata": {},
   "outputs": [
    {
     "data": {
      "text/plain": [
       "17"
      ]
     },
     "execution_count": 113,
     "metadata": {},
     "output_type": "execute_result"
    }
   ],
   "source": [
    "x = np.array([15, 20, 25, 30, 35, 40, 45, 47.5, 50, 52.5, 55, 57.5, 60, 65, 70, 75, 80])\n",
    "y = np.array([218, 200, 181, 161, 130, 91, 85, 71, 53, 39, 31, 29, 45, 103, 164, 500, 1200])\n",
    "xerr = [1 for i in range(len(x))]\n",
    "yerr = y * 0.05\n",
    "\n",
    "for i, yerr_i in enumerate(yerr):\n",
    "    if yerr_i < 5:\n",
    "        yerr[i] = 5\n",
    "\n",
    "len(yerr)"
   ]
  },
  {
   "cell_type": "code",
   "execution_count": 114,
   "id": "f43839e9-6a9c-4498-a121-7169820b929e",
   "metadata": {},
   "outputs": [],
   "source": [
    "def brewster(theta_i, n_2, I, I_bg):\n",
    "    cos_theta_r = np.sqrt(n_2 ** 2 - np.sin(np.radians(theta_i)) ** 2) / n_2\n",
    "    num = n_2 * np.cos(np.radians(theta_i)) - cos_theta_r\n",
    "    den = n_2 * np.cos(np.radians(theta_i)) + cos_theta_r\n",
    "    return I * (num / den) ** 2 - I_bg\n",
    "\n",
    "# Does the simple fit\n",
    "init_params=[1.4, 1200, 5]\n",
    "lin_opt, lin_cov = opt.curve_fit(brewster, x, y, p0=init_params)\n",
    "\n",
    "# Simple Best fit values\n",
    "n_2, I, I_bg = lin_opt\n",
    "dn_2, dI, dI_bg = np.sqrt(np.diag(lin_cov))\n",
    "\n",
    "def brewster_fitted(theta_i):\n",
    "    cos_theta_r = np.sqrt(n_2 ** 2 - np.sin(np.radians(theta_i)) ** 2) / n_2\n",
    "    num = n_2 * np.cos(np.radians(theta_i)) - cos_theta_r\n",
    "    den = n_2 * np.cos(np.radians(theta_i)) + cos_theta_r\n",
    "    return I * (num / den) ** 2 - I_bg\n"
   ]
  },
  {
   "cell_type": "code",
   "execution_count": 115,
   "id": "da57f62d-eb42-4679-8163-d811967ee6db",
   "metadata": {},
   "outputs": [
    {
     "data": {
      "text/plain": [
       "[<matplotlib.lines.Line2D at 0x1375df790>]"
      ]
     },
     "execution_count": 115,
     "metadata": {},
     "output_type": "execute_result"
    },
    {
     "data": {
      "image/png": "[encoded data removed]",
      "text/plain": [
       "<Figure size 432x288 with 1 Axes>"
      ]
     },
     "metadata": {
      "needs_background": "light"
     },
     "output_type": "display_data"
    }
   ],
   "source": [
    "plt.errorbar(x, y, yerr=yerr, xerr=xerr, fmt='o')\n",
    "plt.plot(np.linspace(15, 80), brewster(np.linspace(15, 80), n_2, I, I_bg))"
   ]
  },
  {
   "cell_type": "code",
   "execution_count": 120,
   "id": "24b55deb-644f-4089-b2ba-9d6410f38ef9",
   "metadata": {},
   "outputs": [],
   "source": [
    "# Uses non-weighted model to estimate how the error in x permutates to error in y\n",
    "\n",
    "def push_xerr(x, xerr, y, yerr, fitted_model):\n",
    "    pushed_xerr = xerr * misc.derivative(fitted_model, x)\n",
    "    add_quad = np.sqrt(yerr ** 2 + pushed_xerr ** 2)\n",
    "    return add_quad\n",
    "\n",
    "yerr_adj = push_xerr(x, xerr, y, yerr, brewster_fitted)"
   ]
  },
  {
   "cell_type": "code",
   "execution_count": 121,
   "id": "e4874d7d-3b2d-42df-a708-197ee7fb146a",
   "metadata": {},
   "outputs": [],
   "source": [
    "# Does the fit with adjusted xerr\n",
    "init_params=[n_2, I, I_bg]\n",
    "lin_opt, lin_cov = opt.curve_fit(brewster, x, y, sigma=yerr_adj, absolute_sigma=True, p0=init_params)\n",
    "\n",
    "#Weighted Best Fit Values\n",
    "n_2, I, I_bg = lin_opt\n",
    "dn_2, dI, dI_bg = np.sqrt(np.diag(lin_cov))\n",
    "\n",
    "# red_chi_sq = red_chi_2(malus_fitted(x), y, yerr_adj, len(x) - 3)"
   ]
  },
  {
   "cell_type": "code",
   "execution_count": 127,
   "id": "de35dbad-8a0b-4e77-829b-568f8a68407e",
   "metadata": {},
   "outputs": [
    {
     "data": {
      "text/plain": [
       "[<matplotlib.lines.Line2D at 0x137433c40>]"
      ]
     },
     "execution_count": 127,
     "metadata": {},
     "output_type": "execute_result"
    },
    {
     "data": {
      "image/png": "[encoded data removed]",
      "text/plain": [
       "<Figure size 432x288 with 1 Axes>"
      ]
     },
     "metadata": {
      "needs_background": "light"
     },
     "output_type": "display_data"
    }
   ],
   "source": [
    "plt.errorbar(x, y, yerr=yerr, xerr=xerr, fmt='o')\n",
    "plt.plot(np.linspace(15, 80.75), brewster(np.linspace(15, 80.75), n_2, I, I_bg))"
   ]
  },
  {
   "cell_type": "code",
   "execution_count": 123,
   "id": "89112cdb-daf8-48f4-b4a3-c0f2d62b09e9",
   "metadata": {},
   "outputs": [
    {
     "data": {
      "text/plain": [
       "1.525471642469398"
      ]
     },
     "execution_count": 123,
     "metadata": {},
     "output_type": "execute_result"
    }
   ],
   "source": [
    "n_2"
   ]
  },
  {
   "cell_type": "code",
   "execution_count": null,
   "id": "5d6f3201-7e2f-40f3-a670-e1d6fd3ce362",
   "metadata": {},
   "outputs": [],
   "source": []
  }
 ],
 "metadata": {
  "kernelspec": {
   "display_name": "Python 3 (ipykernel)",
   "language": "python",
   "name": "python3"
  },
  "language_info": {
   "codemirror_mode": {
    "name": "ipython",
    "version": 3
   },
   "file_extension": ".py",
   "mimetype": "text/x-python",
   "name": "python",
   "nbconvert_exporter": "python",
   "pygments_lexer": "ipython3",
   "version": "3.9.7"
  }
 },
 "nbformat": 4,
 "nbformat_minor": 5
}
