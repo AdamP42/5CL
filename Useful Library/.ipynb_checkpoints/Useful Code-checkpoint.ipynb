{
 "cells": [
  {
   "cell_type": "markdown",
   "id": "9b0ae760-08ae-41e5-935a-a6ef17b6632c",
   "metadata": {},
   "source": [
    "# Useful Code Tidbits to use Throught the Semester"
   ]
  },
  {
   "cell_type": "markdown",
   "id": "5a63f29c-22ad-4c29-9f89-72ee94b14bfd",
   "metadata": {
    "tags": []
   },
   "source": [
    "## Gereral Imports\n",
    "```python\n",
    "import numpy as np\n",
    "import pandas as pd\n",
    "import scipy.optimize as opt\n",
    "import matplotlib\n",
    "import matplotlib.pyplot as plt\n",
    "%matplotlib inline\n",
    "```\n",
    "\n",
    "## Unpacking Data from a CSV File\n",
    "\n",
    "```python\n",
    "raw_data_array = pd.read_csv('data.csv')\n",
    "raw_data = pd.DataFrame(raw_data).to_numpy()\n",
    "raw_x = raw_data[:,0]\n",
    "raw_y = raw_data[:,1]\n",
    "```\n",
    "\n",
    "## Basic Interpolation Regimen\n",
    "```python\n",
    "x_interp = interp1d(raw_x, raw_y, kind=\"linear\")\n",
    "\n",
    "start_x = 0\n",
    "stop_x = raw_x[-1]\n",
    "step_size = 0.05\n",
    "x = np.arange(start_time, stop_time, step_size)\n",
    "\n",
    "x = x_interp(time)\n",
    "```\n",
    "\n",
    "## Residuals, and Chi Squared\n",
    "```python\n",
    "def norm_res(predicted, observed, errors):\n",
    "    res = observed-predicted\n",
    "    return res / errors \n",
    "\n",
    "def chi_2(predicted, observed, errors):\n",
    "    return np.sum(((observed-predicted) / errors) ** 2)\n",
    "\n",
    "def red_chi_2(predicted, observed, errors, DoF):\n",
    "    return np.sum(((observed-predicted) / errors) ** 2) / DoF\n",
    "```\n",
    "\n",
    "## Model Definition\n",
    "```python\n",
    "def model(x, m, b):\n",
    "    return m * x + b\n",
    "```\n",
    "\n",
    "## Curve Fitting\n",
    "```python\n",
    "# Does the fit\n",
    "init_params=[0, 0]\n",
    "lin_opt, lin_cov = opt.curve_fit(model, x, y, p0=init_params)\n",
    "\n",
    "# Best fit values\n",
    "m, b = lin_opt\n",
    "dm, db = np.sqrt(np.diag(lin_cov))\n",
    "```\n",
    "\n",
    "## Fitted Model Plotting\n",
    "```python\n",
    "fig1=plt.figure(figsize=(8, 8), dpi= 80, facecolor='w', edgecolor='k')\n",
    "plt.rcParams.update({'font.size': '12'})\n",
    "\n",
    "plt.scatter(x, y, label=\"data with error bar\")\n",
    "x_space = np.linspace(x[0],x[-1])\n",
    "plt.plot(x_space, f_lin(x_space, m, b), label='fit, F=-Kx (+c)', color='tab:orange')\n",
    "\n",
    "plt.title(\"Exp 1: Test \\n Displacement vs. Force\")\n",
    "plt.xlabel(\"Displacement (m)\")\n",
    "plt.ylabel(\"Force (N)\")\n",
    "\n",
    "plt.text(.14,-.55, \"k = %5.4f \\u00b1 %5.4f $kg/s^2$\" % (-m, dm))\n",
    "plt.text(.14,-.7, \"c = %5.4f \\u00b1 %5.4f $N$\" % (b, db))\n",
    "plt.xlim(0,.257)\n",
    "plt.ylim(-3.7,0)\n",
    "plt.legend()\n",
    "plt.show()\n",
    "```\n",
    "\n",
    "## Double Plotting\n",
    "```python\n",
    "f, axarr = plt.subplots(2, sharex=True)\n",
    "plt.xlim(x[0],x[-1])\n",
    "axarr[0].plot(x, y1,'r')\n",
    "axarr[0].set_title(\"Exp 1: \")\n",
    "axarr[0].set_ylabel('Force (N)')\n",
    "axarr[1].plot(x, y2,'b')\n",
    "axarr[1].set_xlabel('time (s)')\n",
    "axarr[1].set_ylabel('Position (m)')\n",
    "plt.show()\n",
    "```\n",
    "\n",
    "## Residual Plot\n",
    "```python\n",
    "fig2=plt.figure(figsize=(6, 6), dpi= 80, facecolor='w', edgecolor='k')\n",
    "plt.rcParams.update({'font.size': '12'})\n",
    "\n",
    "plt.errorbar(V_resistor, res, fmt='o')\n",
    "plt.axhline(color='tab:orange')\n",
    "\n",
    "plt.title(\"Part 2A: Normalized Residuals for Resistor\")\n",
    "plt.xlabel(\"Current (mA)\")\n",
    "plt.ylabel(\"Normalized Residual\")\n",
    "plt.show()\n",
    "```\n",
    "\n",
    "## Pushing x-err into y-err for non-linear fitting\n",
    "```python\n",
    "# Uses non-weighted model to estimate how the error in x permutates to error in y\n",
    "\n",
    "def push_xerr(x, xerr, y, yerr, fitted_model):\n",
    "    pushed_xerr = xerr * misc.derivative(fitted_model, x)\n",
    "    add_quad = np.sqrt(yerr ** 2 + pushed_xerr ** 2)\n",
    "    return add_quad\n",
    "```\n",
    "\n",
    "## Weighted Fitting\n",
    "```python \n",
    "# Does the fit with adjusted xerr\n",
    "init_params=[0, 0, 0]\n",
    "lin_opt, lin_cov = opt.curve_fit(malus_fit, x, y, sigma=yerr_adj, absolute_sigma=True, p0=init_params)\n",
    "\n",
    "#Weighted Best Fit Values\n",
    "theta_o, I_o, I_bg = lin_opt\n",
    "dtheta_o, dI_o, dI_bg = np.sqrt(np.diag(lin_cov))\n",
    "```\n",
    "\n",
    "Use\n",
    "```python\n",
    "plt.errorbars(x, y, xerr, yerr, label='data with error bar')\n",
    "```\n",
    "when plotting with error bars"
   ]
  },
  {
   "cell_type": "code",
   "execution_count": 1,
   "id": "058cc4cf-b3a9-46f9-aea6-bbfbe5a4d39f",
   "metadata": {},
   "outputs": [],
   "source": [
    "x = 1\n",
    "\n",
    "def test(var):\n",
    "    return var + x"
   ]
  },
  {
   "cell_type": "code",
   "execution_count": 2,
   "id": "7d993bdd-5717-4114-95ee-1833d9af34f9",
   "metadata": {},
   "outputs": [
    {
     "data": {
      "text/plain": [
       "3"
      ]
     },
     "execution_count": 2,
     "metadata": {},
     "output_type": "execute_result"
    }
   ],
   "source": [
    "test(2)"
   ]
  },
  {
   "cell_type": "code",
   "execution_count": 3,
   "id": "73749957-dd63-446d-83b3-8bbb6c13286b",
   "metadata": {},
   "outputs": [],
   "source": [
    "x = 3"
   ]
  },
  {
   "cell_type": "code",
   "execution_count": 4,
   "id": "eb1b9fde-1070-4f15-901a-c7dea1ce64ae",
   "metadata": {},
   "outputs": [
    {
     "data": {
      "text/plain": [
       "5"
      ]
     },
     "execution_count": 4,
     "metadata": {},
     "output_type": "execute_result"
    }
   ],
   "source": [
    "test(2)"
   ]
  },
  {
   "cell_type": "code",
   "execution_count": null,
   "id": "8853569e-d163-4d6e-acb2-f6ba74e2243b",
   "metadata": {},
   "outputs": [],
   "source": []
  }
 ],
 "metadata": {
  "kernelspec": {
   "display_name": "Python 3 (ipykernel)",
   "language": "python",
   "name": "python3"
  },
  "language_info": {
   "codemirror_mode": {
    "name": "ipython",
    "version": 3
   },
   "file_extension": ".py",
   "mimetype": "text/x-python",
   "name": "python",
   "nbconvert_exporter": "python",
   "pygments_lexer": "ipython3",
   "version": "3.9.7"
  }
 },
 "nbformat": 4,
 "nbformat_minor": 5
}
