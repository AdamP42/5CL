{
 "cells": [
  {
   "cell_type": "code",
   "execution_count": 62,
   "id": "c251d227-c077-4172-8817-23f01c14355b",
   "metadata": {},
   "outputs": [],
   "source": [
    "import numpy as np\n",
    "import math\n",
    "import pandas as pd\n",
    "import scipy.optimize as opt\n",
    "from scipy.interpolate import interp1d\n",
    "import matplotlib\n",
    "import matplotlib.pyplot as plt\n",
    "%matplotlib inline\n",
    "from uncertainties import ufloat\n",
    "from uncertainties.umath import atan, sin\n",
    "from uncertainties import unumpy\n"
   ]
  },
  {
   "cell_type": "code",
   "execution_count": 63,
   "id": "c7b46df2-19bd-44f3-bf19-d66f9188fc80",
   "metadata": {},
   "outputs": [],
   "source": [
    "def get_angle(grating_to_screen, center_to_order):\n",
    "    return unumpy.degrees(atan(center_to_order / grating_to_screen))\n"
   ]
  },
  {
   "cell_type": "code",
   "execution_count": 74,
   "id": "368c6b27-43c2-444b-bda9-d67aaa8e72b6",
   "metadata": {},
   "outputs": [],
   "source": [
    "def get_slit_size(wavelength, theta):\n",
    "    return wavelength / sin(theta)\n"
   ]
  },
  {
   "cell_type": "code",
   "execution_count": 65,
   "id": "91e851dd-cc29-40da-8d71-ea96ad216981",
   "metadata": {},
   "outputs": [
    {
     "data": {
      "text/plain": [
       "array(37.23483398157467+/-0.45616733531129133, dtype=object)"
      ]
     },
     "execution_count": 72,
     "metadata": {},
     "output_type": "execute_result"
    }
   ],
   "source": [
    "get_angle(ufloat(5, .05), ufloat(3.80,.05))"
   ]
  },
  {
   "cell_type": "code",
   "execution_count": 86,
   "id": "4e7879f8-9bd2-4ded-9c74-29ca66a221d1",
   "metadata": {},
   "outputs": [
    {
     "data": {
      "text/plain": [
       "4843.312603211582+/-52.344459055776895"
      ]
     },
     "execution_count": 86,
     "metadata": {},
     "output_type": "execute_result"
    }
   ],
   "source": [
    ".01 / get_slit_size(ufloat(634.6e-9, .05e-9), radians(ufloat(17.9, .2)))"
   ]
  },
  {
   "cell_type": "code",
   "execution_count": 70,
   "id": "b1abb1b7-20f2-40d4-9e28-081e2f1cd901",
   "metadata": {},
   "outputs": [
    {
     "data": {
      "text/plain": [
       "array(0.017453292519943295+/-0.0017453292519943296, dtype=object)"
      ]
     },
     "execution_count": 70,
     "metadata": {},
     "output_type": "execute_result"
    }
   ],
   "source": [
    "unumpy.radians(ufloat(1, .1))"
   ]
  },
  {
   "cell_type": "code",
   "execution_count": null,
   "id": "cf75dcf6-d848-4839-81e9-086927a9053c",
   "metadata": {},
   "outputs": [
    {
     "ename": "AttributeError",
     "evalue": "'function' object has no attribute 'degrees'",
     "output_type": "error",
     "traceback": [
      "\u001b[0;31m---------------------------------------------------------------------------\u001b[0m",
      "\u001b[0;31mAttributeError\u001b[0m                            Traceback (most recent call last)",
      "\u001b[0;32m/var/folders/47/0pv_3t814gx1fytsv44kdscw0000gn/T/ipykernel_65977/3440684871.py\u001b[0m in \u001b[0;36m<module>\u001b[0;34m\u001b[0m\n\u001b[0;32m----> 1\u001b[0;31m \u001b[0mufloat\u001b[0m\u001b[0;34m.\u001b[0m\u001b[0mdegrees\u001b[0m\u001b[0;34m(\u001b[0m\u001b[0mufloat\u001b[0m\u001b[0;34m(\u001b[0m\u001b[0;36m1\u001b[0m\u001b[0;34m,\u001b[0m \u001b[0;36m.1\u001b[0m\u001b[0;34m)\u001b[0m\u001b[0;34m)\u001b[0m\u001b[0;34m\u001b[0m\u001b[0;34m\u001b[0m\u001b[0m\n\u001b[0m",
      "\u001b[0;31mAttributeError\u001b[0m: 'function' object has no attribute 'degrees'"
     ]
    }
   ],
   "source": []
  }
 ],
 "metadata": {
  "kernelspec": {
   "display_name": "Python 3 (ipykernel)",
   "language": "python",
   "name": "python3"
  },
  "language_info": {
   "codemirror_mode": {
    "name": "ipython",
    "version": 3
   },
   "file_extension": ".py",
   "mimetype": "text/x-python",
   "name": "python",
   "nbconvert_exporter": "python",
   "pygments_lexer": "ipython3",
   "version": "3.9.7"
  }
 },
 "nbformat": 4,
 "nbformat_minor": 5
}
