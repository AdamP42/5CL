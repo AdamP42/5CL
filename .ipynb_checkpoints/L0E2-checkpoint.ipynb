{
 "cells": [
  {
   "cell_type": "code",
   "execution_count": 31,
   "id": "9f1cd62d-fa3c-42d0-aad7-816f2e238b39",
   "metadata": {},
   "outputs": [],
   "source": [
    "import numpy as np\n",
    "import math\n",
    "import scipy.optimize as opt"
   ]
  },
  {
   "cell_type": "code",
   "execution_count": 32,
   "id": "817c54ae-ab0d-4345-8ad8-8141afac9bdf",
   "metadata": {
    "tags": []
   },
   "outputs": [
    {
     "data": {
      "text/plain": [
       "array([1.55077384, 1.60231376, 1.7408847 , 2.06437222, 2.31884641,\n",
       "       3.03849739, 4.5720605 ])"
      ]
     },
     "execution_count": 32,
     "metadata": {},
     "output_type": "execute_result"
    }
   ],
   "source": [
    "deg = np.array([15, 25, 35, 45, 55, 65, 75])\n",
    "y = np.array([.65, 1.05, 1.34, 1.40, 1.45, 1.20, 0.83])\n",
    "y_scaled = y / np.cos(np.radians(deg))\n",
    "\n",
    "def get_n(deg, y, t):\n",
    "    return (2 * np.sin(np.radians(deg)) * np.sqrt(t ** 2 + 0.25 * y ** 2)) / y\n",
    "\n",
    "# def to_minimize(deg_f):\n",
    "#     return np.var(np.cos(np.radians(deg_f + deg)) * get_n(deg, y, 1.92))\n",
    "    \n",
    "get_n(deg, y, 1.92)"
   ]
  },
  {
   "cell_type": "code",
   "execution_count": 23,
   "id": "b44de5e4-bfd4-4f1c-9b4c-87e02bd0a080",
   "metadata": {
    "collapsed": true,
    "jupyter": {
     "outputs_hidden": true,
     "source_hidden": true
    },
    "tags": []
   },
   "outputs": [
    {
     "data": {
      "text/plain": [
       "      fun: 0.0007969923277753898\n",
       " hess_inv: array([[2066.77845747]])\n",
       "      jac: array([8.84674228e-06])\n",
       "  message: 'Optimization terminated successfully.'\n",
       "     nfev: 18\n",
       "      nit: 2\n",
       "     njev: 9\n",
       "   status: 0\n",
       "  success: True\n",
       "        x: array([-4.47911794])"
      ]
     },
     "execution_count": 23,
     "metadata": {},
     "output_type": "execute_result"
    }
   ],
   "source": [
    "opt.minimize(to_minimize, 45)"
   ]
  },
  {
   "cell_type": "code",
   "execution_count": 26,
   "id": "79bf8d44-b081-40c0-88b6-8d1913a2b187",
   "metadata": {
    "collapsed": true,
    "jupyter": {
     "outputs_hidden": true,
     "source_hidden": true
    },
    "tags": []
   },
   "outputs": [
    {
     "data": {
      "text/plain": [
       "array([1.4979325 , 1.45218944, 1.42604926, 1.45973159, 1.33003566,\n",
       "       1.28412448, 1.18333633])"
      ]
     },
     "execution_count": 26,
     "metadata": {},
     "output_type": "execute_result"
    }
   ],
   "source": [
    "np.cos(np.radians(deg)) * get_n(deg, y, 1.92)"
   ]
  },
  {
   "cell_type": "code",
   "execution_count": 33,
   "id": "b65e5067-26e7-431e-afd4-ce3c62f4788f",
   "metadata": {},
   "outputs": [
    {
     "data": {
      "text/plain": [
       "array([1.49942958, 1.46313169, 1.46350636, 1.54298941, 1.48971453,\n",
       "       1.52435674, 1.50691658])"
      ]
     },
     "execution_count": 33,
     "metadata": {},
     "output_type": "execute_result"
    }
   ],
   "source": [
    "get_n(deg, y_scaled, 1.92)"
   ]
  },
  {
   "cell_type": "code",
   "execution_count": null,
   "id": "22094a66-467e-47a8-a9b0-1b585e88113d",
   "metadata": {},
   "outputs": [],
   "source": []
  }
 ],
 "metadata": {
  "kernelspec": {
   "display_name": "Python 3 (ipykernel)",
   "language": "python",
   "name": "python3"
  },
  "language_info": {
   "codemirror_mode": {
    "name": "ipython",
    "version": 3
   },
   "file_extension": ".py",
   "mimetype": "text/x-python",
   "name": "python",
   "nbconvert_exporter": "python",
   "pygments_lexer": "ipython3",
   "version": "3.9.7"
  }
 },
 "nbformat": 4,
 "nbformat_minor": 5
}
