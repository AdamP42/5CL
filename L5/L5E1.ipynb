{
 "cells": [
  {
   "cell_type": "code",
   "execution_count": 6,
   "id": "e80f9359-0e6d-4a34-aaa3-6eba9b55b97a",
   "metadata": {},
   "outputs": [],
   "source": [
    "import numpy as np\n",
    "import pandas as pd\n",
    "import scipy.optimize as opt\n",
    "import matplotlib\n",
    "import matplotlib.pyplot as plt\n",
    "from uncertainties import ufloat\n",
    "from uncertainties import unumpy\n",
    "%matplotlib inline\n"
   ]
  },
  {
   "cell_type": "code",
   "execution_count": 10,
   "id": "bde2e523-83a3-4d2e-8bd7-f48f9a256e6d",
   "metadata": {},
   "outputs": [],
   "source": [
    "def angle_to_wavelength(theta, slit_dist):\n",
    "    return unumpy.sin(theta) * slit_dist\n",
    "\n",
    "def get_angle(L, dist):\n",
    "    return unumpy.arctan(dist / L)\n",
    "\n",
    "def uflout_set_uncertainty(data, err):\n",
    "    uflout_data = []\n",
    "    for pt in data:\n",
    "        uflout_data.append(ufloat(pt, err))\n",
    "    return np.array(uflout_data)\n"
   ]
  },
  {
   "cell_type": "code",
   "execution_count": 32,
   "id": "93764764-ac11-4439-9bf1-dadfed3c44f6",
   "metadata": {},
   "outputs": [],
   "source": [
    "dist = np.array([10.83, 11.9, 12.51, 12.75, 14.47, 14.51, 15.14, 15.48, 16.02, 17.55])\n",
    "dist_pm = uflout_set_uncertainty(dist, .07)\n",
    "L = ufloat(50, .1)\n",
    "d = ufloat(2062.5e-9, 50e-9)\n",
    "\n",
    "data = angle_to_wavelength(get_angle(L, dist_pm), d)"
   ]
  },
  {
   "cell_type": "code",
   "execution_count": 33,
   "id": "475ad1fc-d806-47bc-b2c7-1341acb26ca5",
   "metadata": {},
   "outputs": [
    {
     "name": "stdout",
     "output_type": "stream",
     "text": [
      "(4.37±0.11)×10⁻⁷\n",
      "(4.78±0.12)×10⁻⁷\n",
      "(5.01±0.12)×10⁻⁷\n",
      "(5.10±0.13)×10⁻⁷\n",
      "(5.73±0.14)×10⁻⁷\n",
      "(5.75±0.14)×10⁻⁷\n",
      "(5.98±0.15)×10⁻⁷\n",
      "(6.10±0.15)×10⁻⁷\n",
      "(6.29±0.16)×10⁻⁷\n",
      "(6.83±0.17)×10⁻⁷\n"
     ]
    }
   ],
   "source": [
    "for point in data:\n",
    "    print(u'{:.2eP}'.format(point))"
   ]
  },
  {
   "cell_type": "code",
   "execution_count": 34,
   "id": "8ad0272e-1e87-4a3e-97ab-7244ca94d9ae",
   "metadata": {},
   "outputs": [
    {
     "name": "stdout",
     "output_type": "stream",
     "text": [
      "(4.22±0.11)×10⁻⁷\n",
      "(4.40±0.11)×10⁻⁷\n",
      "(4.96±0.13)×10⁻⁷\n",
      "(6.70±0.17)×10⁻⁷\n"
     ]
    }
   ],
   "source": [
    "dist = np.array([10.44, 10.93, 12.40, 17.18])\n",
    "dist_pm = uflout_set_uncertainty(dist, .1)\n",
    "L = ufloat(50, .1)\n",
    "d = ufloat(2062.5e-9, 50e-9)\n",
    "\n",
    "data = angle_to_wavelength(get_angle(L, dist_pm), d)\n",
    "\n",
    "for point in data:\n",
    "    print(u'{:.2eP}'.format(point))\n"
   ]
  },
  {
   "cell_type": "code",
   "execution_count": null,
   "id": "c2e6be9f-cff3-473b-93a3-18e6772b5288",
   "metadata": {},
   "outputs": [],
   "source": []
  }
 ],
 "metadata": {
  "kernelspec": {
   "display_name": "Python 3 (ipykernel)",
   "language": "python",
   "name": "python3"
  },
  "language_info": {
   "codemirror_mode": {
    "name": "ipython",
    "version": 3
   },
   "file_extension": ".py",
   "mimetype": "text/x-python",
   "name": "python",
   "nbconvert_exporter": "python",
   "pygments_lexer": "ipython3",
   "version": "3.9.7"
  }
 },
 "nbformat": 4,
 "nbformat_minor": 5
}
