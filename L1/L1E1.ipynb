{
 "cells": [
  {
   "cell_type": "code",
   "execution_count": 2,
   "id": "70c449bd-5aae-4f79-a7c6-3ef05d485957",
   "metadata": {},
   "outputs": [],
   "source": [
    "import numpy as np\n",
    "import pandas as pd\n",
    "import scipy.optimize as opt\n",
    "import matplotlib\n",
    "import matplotlib.pyplot as plt\n",
    "%matplotlib inline\n"
   ]
  },
  {
   "cell_type": "code",
   "execution_count": 3,
   "id": "802eb972-3c82-4630-862d-02fe0f87e47e",
   "metadata": {},
   "outputs": [],
   "source": [
    "def get_d_oa(f_a, d_ia):\n",
    "    return (f_a * d_ia) / (d_ia - f_a)\n",
    "\n",
    "def get_d_ib(d_ab, d_oa):\n",
    "    return d_ab - d_oa\n",
    "\n",
    "def get_f_b(d_ob, d_ib):\n",
    "    return (d_ob * d_ib) / (d_ib + d_ob)\n"
   ]
  },
  {
   "cell_type": "code",
   "execution_count": 4,
   "id": "039ea2af-2f89-4ce1-8eae-817020352a2f",
   "metadata": {},
   "outputs": [],
   "source": [
    "d_ob = np.array([7.2, 5.0, 11.0])\n",
    "d_ia = np.array([26.7, 28.5, 22.3])\n",
    "f_a = np.array([17.5, 17.5, 17.5])\n",
    "d_ab = np.array([37.7, 38.1, 38.2])\n",
    "\n",
    "d_oa = get_d_oa(f_a, d_ia)\n",
    "d_ib = get_d_ib(d_ab, d_oa)\n",
    "f_b = get_f_b(d_ob, d_ib)\n"
   ]
  },
  {
   "cell_type": "code",
   "execution_count": 5,
   "id": "5fc1c56e-a86f-437a-8983-0709884f9c23",
   "metadata": {},
   "outputs": [
    {
     "data": {
      "text/plain": [
       "array([16.00428281, 16.15618661, 14.76922578])"
      ]
     },
     "execution_count": 5,
     "metadata": {},
     "output_type": "execute_result"
    }
   ],
   "source": [
    "f_b"
   ]
  },
  {
   "cell_type": "code",
   "execution_count": 6,
   "id": "ea8aa768-6f71-418f-8197-61850dd1c1e1",
   "metadata": {},
   "outputs": [
    {
     "data": {
      "text/plain": [
       "array([50.78804348, 45.34090909, 81.30208333])"
      ]
     },
     "execution_count": 6,
     "metadata": {},
     "output_type": "execute_result"
    }
   ],
   "source": [
    "d_oa"
   ]
  },
  {
   "cell_type": "code",
   "execution_count": 7,
   "id": "2c93508b-ecc3-45aa-9277-84997c97a122",
   "metadata": {},
   "outputs": [
    {
     "data": {
      "text/plain": [
       "array([-13.08804348,  -7.24090909, -43.10208333])"
      ]
     },
     "execution_count": 7,
     "metadata": {},
     "output_type": "execute_result"
    }
   ],
   "source": [
    "d_ib"
   ]
  },
  {
   "cell_type": "code",
   "execution_count": 8,
   "id": "dde4adc5-5445-42cd-afbc-26215f5c1947",
   "metadata": {},
   "outputs": [
    {
     "data": {
      "text/plain": [
       "0.3586033094578286"
      ]
     },
     "execution_count": 8,
     "metadata": {},
     "output_type": "execute_result"
    }
   ],
   "source": [
    "np.std(f_b) / np.sqrt(3)"
   ]
  },
  {
   "cell_type": "code",
   "execution_count": 9,
   "id": "bbcad188-8207-4c06-9d85-a431da4df886",
   "metadata": {},
   "outputs": [
    {
     "data": {
      "text/plain": [
       "15.64323173436154"
      ]
     },
     "execution_count": 9,
     "metadata": {},
     "output_type": "execute_result"
    }
   ],
   "source": [
    "np.mean(f_b)"
   ]
  },
  {
   "cell_type": "code",
   "execution_count": 12,
   "id": "f9306e36-2d3e-4e64-bf85-f587f3053726",
   "metadata": {},
   "outputs": [
    {
     "data": {
      "text/plain": [
       "0.02721655269759077"
      ]
     },
     "execution_count": 12,
     "metadata": {},
     "output_type": "execute_result"
    }
   ],
   "source": [
    "np.std([15.3,15.4,15.4]) / np.sqrt(3)"
   ]
  },
  {
   "cell_type": "code",
   "execution_count": 15,
   "id": "8673b257-885e-46b2-b394-f139c5a00c97",
   "metadata": {},
   "outputs": [
    {
     "data": {
      "text/plain": [
       "0.18917462048868228"
      ]
     },
     "execution_count": 15,
     "metadata": {},
     "output_type": "execute_result"
    }
   ],
   "source": [
    "np.std([15.3,15.4,15.4, 16,16.2,14.8]) / np.sqrt(6)"
   ]
  },
  {
   "cell_type": "code",
   "execution_count": null,
   "id": "89932b07-3d00-42cd-aac3-71bb4d903f1f",
   "metadata": {},
   "outputs": [],
   "source": []
  }
 ],
 "metadata": {
  "kernelspec": {
   "display_name": "Python 3 (ipykernel)",
   "language": "python",
   "name": "python3"
  },
  "language_info": {
   "codemirror_mode": {
    "name": "ipython",
    "version": 3
   },
   "file_extension": ".py",
   "mimetype": "text/x-python",
   "name": "python",
   "nbconvert_exporter": "python",
   "pygments_lexer": "ipython3",
   "version": "3.9.7"
  }
 },
 "nbformat": 4,
 "nbformat_minor": 5
}
