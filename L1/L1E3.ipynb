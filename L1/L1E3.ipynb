{
 "cells": [
  {
   "cell_type": "code",
   "execution_count": 2,
   "id": "d942ae35-b762-4bda-a498-a5c67c655a78",
   "metadata": {},
   "outputs": [],
   "source": [
    "import numpy as np\n",
    "import pandas as pd\n",
    "import scipy.optimize as opt\n",
    "import matplotlib\n",
    "import matplotlib.pyplot as plt\n",
    "%matplotlib inline\n"
   ]
  },
  {
   "cell_type": "code",
   "execution_count": 3,
   "id": "998a72cc-3442-421a-8c05-fc88d96eb868",
   "metadata": {},
   "outputs": [],
   "source": [
    "# def get_dii(f_c, d_p, S):\n",
    "#     return (f_c*(d_p+S)-d_p*S)/(f_c-d_p)\n",
    "\n",
    "def get_dii(f_c, d_p, S):\n",
    "    return S - (d_p*f_c) / (d_p-f_c)\n",
    "\n",
    "def get_fd(d_o, d_ii):\n",
    "    return (d_o*d_ii)/(d_ii+d_o)\n",
    "\n",
    "def get_fc(d_o, d_i):\n",
    "    return (d_o * d_i) / (d_o + d_i)\n"
   ]
  },
  {
   "cell_type": "code",
   "execution_count": 4,
   "id": "93b9cbed-4471-4d18-b258-e07be26c0238",
   "metadata": {},
   "outputs": [],
   "source": [
    "d_o = np.array([25.9, 54, 41.9, 30.7, 38.6, 32.9])\n",
    "d_i = np.array([54.6, 26.5, 30.8, 42, 32.5, 38]) -.1"
   ]
  },
  {
   "cell_type": "code",
   "execution_count": null,
   "id": "8bba7950-89ea-4153-8edf-fc32ccc209a1",
   "metadata": {},
   "outputs": [
    {
     "data": {
      "text/plain": [
       "17.658399088136466"
      ]
     },
     "execution_count": 5,
     "metadata": {},
     "output_type": "execute_result"
    }
   ],
   "source": [
    "np.average(get_fc(d_o, d_i))"
   ]
  },
  {
   "cell_type": "code",
   "execution_count": 67,
   "id": "3202c5db-2d76-44b4-99d7-a307259d2834",
   "metadata": {},
   "outputs": [
    {
     "data": {
      "text/plain": [
       "80.5"
      ]
     },
     "execution_count": 67,
     "metadata": {},
     "output_type": "execute_result"
    }
   ],
   "source": [
    "25.9 + 54.6"
   ]
  },
  {
   "cell_type": "code",
   "execution_count": 22,
   "id": "6d4265c9-ac16-4b54-a878-84d55682f6b4",
   "metadata": {},
   "outputs": [
    {
     "data": {
      "text/plain": [
       "array([-12.35361492, -31.86517144, -16.41822881, -16.35819613,\n",
       "       -15.45261634, -17.79846227, -18.60710207, -18.20433619,\n",
       "       -15.68629085, -20.04057546])"
      ]
     },
     "execution_count": 22,
     "metadata": {},
     "output_type": "execute_result"
    }
   ],
   "source": [
    "f_c = 17.66 # We used lens A for this experiment. The C refers to convergins\n",
    "\n",
    "d_o = np.array([18.9, 5.0, 11.9, 5.0, 21.8, 6.7, 7.5, 7.5, 8.5, 8.5])\n",
    "S = np.array([28.6, 40.6 , 20.2, 25.9, 26.5, 25.1, 47.2, 21.3, 45.9, 20.8])\n",
    "d_p = np.array([34.6, 29.1, 50.7, 43.5, 35.1, 43.0, 26.6, 52.5, 26.9, 51.9])\n",
    "\n",
    "d_ii = get_dii(f_c, d_p, S)\n",
    "\n",
    "f_d = get_fd(d_o, d_ii)\n",
    "f_d"
   ]
  },
  {
   "cell_type": "code",
   "execution_count": 23,
   "id": "e2f16b6c-1c14-4e6c-a495-8435e8427dd8",
   "metadata": {},
   "outputs": [
    {
     "data": {
      "text/plain": [
       "-18.278459447527965"
      ]
     },
     "execution_count": 23,
     "metadata": {},
     "output_type": "execute_result"
    }
   ],
   "source": [
    "np.average(f_d)"
   ]
  },
  {
   "cell_type": "code",
   "execution_count": null,
   "id": "5fcc1e0b-4c0e-441f-8316-1a3842a5d8fb",
   "metadata": {},
   "outputs": [],
   "source": []
  }
 ],
 "metadata": {
  "kernelspec": {
   "display_name": "Python 3 (ipykernel)",
   "language": "python",
   "name": "python3"
  },
  "language_info": {
   "codemirror_mode": {
    "name": "ipython",
    "version": 3
   },
   "file_extension": ".py",
   "mimetype": "text/x-python",
   "name": "python",
   "nbconvert_exporter": "python",
   "pygments_lexer": "ipython3",
   "version": "3.9.7"
  }
 },
 "nbformat": 4,
 "nbformat_minor": 5
}
