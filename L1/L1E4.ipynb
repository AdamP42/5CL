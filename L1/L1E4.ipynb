{
 "cells": [
  {
   "cell_type": "code",
   "execution_count": 1,
   "id": "bf288a15-d14e-48dd-acc5-5e9c78310450",
   "metadata": {},
   "outputs": [],
   "source": [
    "import numpy as np\n",
    "import pandas as pd\n",
    "import scipy.optimize as opt\n",
    "import matplotlib\n",
    "import matplotlib.pyplot as plt\n",
    "%matplotlib inline\n"
   ]
  },
  {
   "cell_type": "code",
   "execution_count": 2,
   "id": "e706dc70-e03e-4eb6-bbaf-d96fd5f377b4",
   "metadata": {},
   "outputs": [
    {
     "data": {
      "text/plain": [
       "2.1225"
      ]
     },
     "execution_count": 2,
     "metadata": {},
     "output_type": "execute_result"
    }
   ],
   "source": [
    "size = np.array([2.150, 2.095, 2.125, 2.120])\n",
    "\n",
    "np.mean(size)\n"
   ]
  },
  {
   "cell_type": "code",
   "execution_count": 4,
   "id": "135b8bc1-94a2-4d21-857c-11b3602838e1",
   "metadata": {},
   "outputs": [
    {
     "data": {
      "text/plain": [
       "0.009762812094883267"
      ]
     },
     "execution_count": 4,
     "metadata": {},
     "output_type": "execute_result"
    }
   ],
   "source": [
    "np.std(size) / np.sqrt(4)"
   ]
  },
  {
   "cell_type": "code",
   "execution_count": 5,
   "id": "a146f740-a3ee-48f7-9ed4-35679ecefee5",
   "metadata": {},
   "outputs": [
    {
     "data": {
      "text/plain": [
       "0.5525"
      ]
     },
     "execution_count": 5,
     "metadata": {},
     "output_type": "execute_result"
    }
   ],
   "source": [
    "size_s = np.array([.555, .570, .555, .530])\n",
    "\n",
    "np.mean(size_s)"
   ]
  },
  {
   "cell_type": "code",
   "execution_count": 6,
   "id": "a98bdb85-ae8d-4c94-9237-dde184354f5e",
   "metadata": {},
   "outputs": [
    {
     "data": {
      "text/plain": [
       "0.007180703308172526"
      ]
     },
     "execution_count": 6,
     "metadata": {},
     "output_type": "execute_result"
    }
   ],
   "source": [
    "np.std(size_s) / np.sqrt(4)"
   ]
  },
  {
   "cell_type": "code",
   "execution_count": null,
   "id": "d5ab4867-bf3c-4370-aa50-75c7385846de",
   "metadata": {},
   "outputs": [],
   "source": []
  }
 ],
 "metadata": {
  "kernelspec": {
   "display_name": "Python 3 (ipykernel)",
   "language": "python",
   "name": "python3"
  },
  "language_info": {
   "codemirror_mode": {
    "name": "ipython",
    "version": 3
   },
   "file_extension": ".py",
   "mimetype": "text/x-python",
   "name": "python",
   "nbconvert_exporter": "python",
   "pygments_lexer": "ipython3",
   "version": "3.9.7"
  }
 },
 "nbformat": 4,
 "nbformat_minor": 5
}
