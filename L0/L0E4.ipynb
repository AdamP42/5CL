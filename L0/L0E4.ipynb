{
 "cells": [
  {
   "cell_type": "code",
   "execution_count": 1,
   "id": "b2343f94-ab57-4f8f-8757-923c49c98497",
   "metadata": {},
   "outputs": [],
   "source": [
    "import numpy as np\n",
    "import math\n",
    "import scipy.optimize as opt\n"
   ]
  },
  {
   "cell_type": "code",
   "execution_count": 4,
   "id": "e506b850-1c53-4ae7-8b81-e30607fd3af2",
   "metadata": {},
   "outputs": [
    {
     "name": "stderr",
     "output_type": "stream",
     "text": [
      "/var/folders/47/0pv_3t814gx1fytsv44kdscw0000gn/T/ipykernel_1930/1401268958.py:5: RuntimeWarning: invalid value encountered in true_divide\n",
      "  return np.sin(theta_i) / (np.sin(np.arctan(np.tan(theta_i)-y/t)))\n"
     ]
    },
    {
     "data": {
      "text/plain": [
       "array([        nan, -1.00168266,  1.00016262,  0.99998482, -0.99705738,\n",
       "        0.95985062, -1.05857741, -0.99464726])"
      ]
     },
     "execution_count": 4,
     "metadata": {},
     "output_type": "execute_result"
    }
   ],
   "source": [
    "theta_i = np.array([0, 10, 20, 30, 40, 50, 60, 65])\n",
    "y = np.radians(np.array([0, 1.7 , 2.4 , 4.5 , 8.2 , 13.5 , 21.3 , 28.0]))\n",
    "\n",
    "def get_n(theta_i, y, t):\n",
    "    return np.sin(theta_i) / (np.sin(np.arctan(np.tan(theta_i)-y/t)))\n",
    "\n",
    "t = 19.2\n",
    "\n",
    "get_n(theta_i, y, t)"
   ]
  },
  {
   "cell_type": "code",
   "execution_count": null,
   "id": "77e4fae4-1261-4111-99f8-3fa2978acccd",
   "metadata": {},
   "outputs": [],
   "source": []
  }
 ],
 "metadata": {
  "kernelspec": {
   "display_name": "Python 3 (ipykernel)",
   "language": "python",
   "name": "python3"
  },
  "language_info": {
   "codemirror_mode": {
    "name": "ipython",
    "version": 3
   },
   "file_extension": ".py",
   "mimetype": "text/x-python",
   "name": "python",
   "nbconvert_exporter": "python",
   "pygments_lexer": "ipython3",
   "version": "3.9.7"
  }
 },
 "nbformat": 4,
 "nbformat_minor": 5
}
