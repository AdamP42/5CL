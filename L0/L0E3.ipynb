{
 "cells": [
  {
   "cell_type": "code",
   "execution_count": 1,
   "id": "f5b0bbf3-2b36-4f6d-a7a3-fda01f8543a6",
   "metadata": {},
   "outputs": [],
   "source": [
    "import numpy as np\n",
    "import pandas as pd\n",
    "import scipy.optimize as opt\n",
    "import matplotlib\n",
    "import matplotlib.pyplot as plt\n",
    "%matplotlib inline\n"
   ]
  },
  {
   "cell_type": "code",
   "execution_count": 14,
   "id": "95cc2418-3c83-4604-80ae-58ca27187356",
   "metadata": {},
   "outputs": [],
   "source": [
    "d_o = np.array([50.0, 45.0, 40.0, 35.0, 30.0, 25.0, 20.0])\n",
    "d_i = np.array([22.1, 23.0, 25.4, 27.3, 30.9, 39.0, 65.3])\n",
    "\n",
    "x = 1 / d_o\n",
    "y = 1 / d_i\n",
    "\n",
    "def lin_fit(x, b):\n",
    "    return -x + b\n",
    "h_o = 1.54\n",
    "n_oerr = 0.005\n",
    "h_i = np.array([0.66, 0.79, 0.94, 1.18, 1.54, 2.32, 4.88])\n",
    "\n"
   ]
  },
  {
   "cell_type": "code",
   "execution_count": 6,
   "id": "626093e6-b675-420e-8d4b-89a73fa40316",
   "metadata": {},
   "outputs": [],
   "source": [
    "# Does the fit\n",
    "init_params=[0]\n",
    "lin_opt, lin_cov = opt.curve_fit(lin_fit, x, y, p0=init_params)\n",
    "\n",
    "# Best fit values\n",
    "b = lin_opt\n",
    "db = np.sqrt(np.diag(lin_cov))\n"
   ]
  },
  {
   "cell_type": "code",
   "execution_count": 7,
   "id": "9d61158a-23bc-4692-ac02-02cbf4c89990",
   "metadata": {},
   "outputs": [
    {
     "data": {
      "text/plain": [
       "array([[3.11875013e-08]])"
      ]
     },
     "execution_count": 7,
     "metadata": {},
     "output_type": "execute_result"
    }
   ],
   "source": [
    "lin_cov"
   ]
  },
  {
   "cell_type": "code",
   "execution_count": 10,
   "id": "a7ca49ff-5c2c-46db-902a-3e6ca6cb95bc",
   "metadata": {},
   "outputs": [
    {
     "data": {
      "text/plain": [
       "array([0.06531024])"
      ]
     },
     "execution_count": 10,
     "metadata": {},
     "output_type": "execute_result"
    }
   ],
   "source": [
    "b"
   ]
  },
  {
   "cell_type": "code",
   "execution_count": 11,
   "id": "61d10198-37a2-457b-8feb-1947dadaa011",
   "metadata": {},
   "outputs": [
    {
     "data": {
      "text/plain": [
       "array([15.31153561])"
      ]
     },
     "execution_count": 11,
     "metadata": {},
     "output_type": "execute_result"
    }
   ],
   "source": [
    "1/b"
   ]
  },
  {
   "cell_type": "code",
   "execution_count": 13,
   "id": "771e373b-d58b-47a7-ae04-6bd92120ea27",
   "metadata": {},
   "outputs": [
    {
     "data": {
      "text/plain": [
       "array([0.04140262])"
      ]
     },
     "execution_count": 13,
     "metadata": {},
     "output_type": "execute_result"
    }
   ],
   "source": [
    "db / b ** 2"
   ]
  },
  {
   "cell_type": "code",
   "execution_count": 17,
   "id": "3b544d32-0fe9-468d-975f-522af0825dc1",
   "metadata": {},
   "outputs": [
    {
     "data": {
      "text/plain": [
       "1.1419294990723563"
      ]
     },
     "execution_count": 17,
     "metadata": {},
     "output_type": "execute_result"
    }
   ],
   "source": [
    "np.average(h_i / h_o)"
   ]
  },
  {
   "cell_type": "code",
   "execution_count": 18,
   "id": "50af29ea-503e-493b-a293-1fcbf14c7b9f",
   "metadata": {},
   "outputs": [
    {
     "data": {
      "text/plain": [
       "0.33774497085550076"
      ]
     },
     "execution_count": 18,
     "metadata": {},
     "output_type": "execute_result"
    }
   ],
   "source": [
    "np.std(h_i / h_o) / np.sqrt(len(h_i))"
   ]
  },
  {
   "cell_type": "code",
   "execution_count": 19,
   "id": "92b51235-2ea0-4ae3-a790-0ee0bbad7d46",
   "metadata": {},
   "outputs": [
    {
     "data": {
      "text/plain": [
       "1.1747301587301588"
      ]
     },
     "execution_count": 19,
     "metadata": {},
     "output_type": "execute_result"
    }
   ],
   "source": [
    "np.average(d_i/d_o)"
   ]
  },
  {
   "cell_type": "code",
   "execution_count": 20,
   "id": "e062d26d-0e06-4faa-a6ba-2609285e7d27",
   "metadata": {},
   "outputs": [
    {
     "data": {
      "text/plain": [
       "0.3488468451472401"
      ]
     },
     "execution_count": 20,
     "metadata": {},
     "output_type": "execute_result"
    }
   ],
   "source": [
    "np.std(d_i / d_o) / np.sqrt(len(d_i))"
   ]
  },
  {
   "cell_type": "code",
   "execution_count": 22,
   "id": "af6ee68a-95c8-45ea-ae67-c2781d49808c",
   "metadata": {},
   "outputs": [
    {
     "data": {
      "text/plain": [
       "0.9759098319004682"
      ]
     },
     "execution_count": 22,
     "metadata": {},
     "output_type": "execute_result"
    }
   ],
   "source": [
    "2 * np.sqrt(.34**2+.35**2)"
   ]
  },
  {
   "cell_type": "code",
   "execution_count": 27,
   "id": "6b448c75-59b7-4325-afb7-3d908bd4f13e",
   "metadata": {},
   "outputs": [
    {
     "data": {
      "text/plain": [
       "0.5063595560468865"
      ]
     },
     "execution_count": 27,
     "metadata": {},
     "output_type": "execute_result"
    }
   ],
   "source": [
    "2 * np.sqrt(.04**2 + .25**2)"
   ]
  },
  {
   "cell_type": "code",
   "execution_count": 29,
   "id": "be9d591c-61b4-4561-aa40-e04d6bc4e1fd",
   "metadata": {},
   "outputs": [
    {
     "data": {
      "text/plain": [
       "array(0.00011231)"
      ]
     },
     "execution_count": 29,
     "metadata": {},
     "output_type": "execute_result"
    }
   ],
   "source": [
    "np.cov(y)"
   ]
  },
  {
   "cell_type": "code",
   "execution_count": 30,
   "id": "b76ebabc-04b3-49ec-859a-c00494545490",
   "metadata": {},
   "outputs": [
    {
     "data": {
      "text/plain": [
       "array([[ 1.        , -0.99908214],\n",
       "       [-0.99908214,  1.        ]])"
      ]
     },
     "execution_count": 30,
     "metadata": {},
     "output_type": "execute_result"
    }
   ],
   "source": [
    "np.corrcoef(x, y)"
   ]
  },
  {
   "cell_type": "code",
   "execution_count": null,
   "id": "43b15a63-0b3b-4efd-8e20-6e9c1fb03c8e",
   "metadata": {},
   "outputs": [],
   "source": []
  }
 ],
 "metadata": {
  "kernelspec": {
   "display_name": "Python 3 (ipykernel)",
   "language": "python",
   "name": "python3"
  },
  "language_info": {
   "codemirror_mode": {
    "name": "ipython",
    "version": 3
   },
   "file_extension": ".py",
   "mimetype": "text/x-python",
   "name": "python",
   "nbconvert_exporter": "python",
   "pygments_lexer": "ipython3",
   "version": "3.9.7"
  }
 },
 "nbformat": 4,
 "nbformat_minor": 5
}
